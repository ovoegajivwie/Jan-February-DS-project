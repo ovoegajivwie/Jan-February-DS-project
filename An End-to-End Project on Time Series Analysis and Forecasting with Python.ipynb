{
 "cells": [
  {
   "cell_type": "code",
   "execution_count": null,
   "id": "1ca88481",
   "metadata": {},
   "outputs": [],
   "source": [
    "#start date: 24/01/2024\n",
    "#project_title: An End-to-End Project on Time Series Analysis and Forecasting with Python\n",
    "#project_link: \n",
    "\n",
    "import warnings\n",
    "import itertools\n",
    "import numpy as np\n",
    "import matplotlib.pyplot as plt\n",
    "warnings.filterwarnings(\"ignore\")\n",
    "plt.style.use('fivethirtyeight')\n",
    "import pandas as pd\n",
    "import statsmodels.api as sm\n",
    "\n",
    "#reading and viewing dataset\n",
    "dataset = pd.read_excel(\"superstore_data.xls\")\n",
    "print(dataset.head())\n",
    "print(dataset.info())\n",
    "print(dataset.describe())\n",
    "print(dataset.isnull().sum())\n",
    "\n",
    "#starting from time series analysis and forecasting for furniture sales.\n",
    "furniture = dataset.loc[dataset['Category'] == 'Furniture']\n",
    "furniture['Order Date'].min(), furniture['Order Date'].max()\n",
    "\n",
    "#Data Preprocessing: removing cols we dont need and many more\n",
    "cols = ['Row ID', 'Order ID', 'Ship Date', 'Ship Mode', 'Customer ID', 'Customer Name', 'Segment', 'Country', 'City', 'State', 'Postal Code', 'Region', 'Product ID', 'Category', 'Sub-Category', 'Product Name', 'Quantity', 'Discount', 'Profit']\n",
    "furniture.drop(cols, axis=1, inplace=True)\n",
    "furniture = furniture.sort_values('Order Date')\n",
    "furniture.isnull().sum()\n",
    "furniture = furniture.groupby('Order Date')['Sales'].sum().reset_index()\n",
    "\n",
    "#stop date: 24/01/2024\n",
    "#end date:\n"
   ]
  },
  {
   "cell_type": "code",
   "execution_count": null,
   "id": "6afb2ca4",
   "metadata": {},
   "outputs": [],
   "source": []
  }
 ],
 "metadata": {
  "kernelspec": {
   "display_name": "Python 3 (ipykernel)",
   "language": "python",
   "name": "python3"
  },
  "language_info": {
   "codemirror_mode": {
    "name": "ipython",
    "version": 3
   },
   "file_extension": ".py",
   "mimetype": "text/x-python",
   "name": "python",
   "nbconvert_exporter": "python",
   "pygments_lexer": "ipython3",
   "version": "3.9.13"
  }
 },
 "nbformat": 4,
 "nbformat_minor": 5
}
